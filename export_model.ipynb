{
 "cells": [
  {
   "cell_type": "markdown",
   "metadata": {},
   "source": [
    "Let's export the trained model in ONNX and safetensors formats for compatibility with downstream inference engines. First, we'll define some variables."
   ]
  },
  {
   "cell_type": "code",
   "execution_count": 33,
   "metadata": {},
   "outputs": [],
   "source": [
    "model_name = \"lightgpt-small\"\n",
    "checkpoint_path = \"./checkpoints/checkpoint.pt\"\n",
    "lora_path = None  # \"./checkpoints/lora_instruction.pt\"\n",
    "exports_path = \"./exports\""
   ]
  },
  {
   "cell_type": "markdown",
   "metadata": {},
   "source": [
    "Then, we'll load the base model checkpoint into memory from disk."
   ]
  },
  {
   "cell_type": "code",
   "execution_count": 34,
   "metadata": {},
   "outputs": [
    {
     "name": "stdout",
     "output_type": "stream",
     "text": [
      "Base checkpoint loaded successfully\n"
     ]
    }
   ],
   "source": [
    "import torch\n",
    "\n",
    "from model import LightGPT\n",
    "\n",
    "checkpoint = torch.load(checkpoint_path, map_location=\"cpu\", weights_only=True)\n",
    "\n",
    "model = LightGPT(**checkpoint[\"model_args\"])\n",
    "\n",
    "model = torch.compile(model)\n",
    "\n",
    "model.load_state_dict(checkpoint[\"model\"])\n",
    "\n",
    "print(\"Base checkpoint loaded successfully\")"
   ]
  },
  {
   "cell_type": "markdown",
   "metadata": {},
   "source": [
    "Now, we'll load any LoRA checkpoints we wish to incorporate into the exported model."
   ]
  },
  {
   "cell_type": "code",
   "execution_count": 35,
   "metadata": {},
   "outputs": [],
   "source": [
    "from model import LightGPTInstruct\n",
    "\n",
    "if lora_path != None:\n",
    "    checkpoint = torch.load(lora_path, map_location=\"cpu\", weights_only=True)\n",
    "\n",
    "    model = LightGPTInstruct(model, **checkpoint[\"lora_args\"])\n",
    "\n",
    "    model = torch.compile(model)\n",
    "\n",
    "    model.load_state_dict(checkpoint[\"lora\"], strict=False)\n",
    "\n",
    "    model.merge_lora_parameters()\n",
    "\n",
    "    print(\"LoRA checkpoint loaded successfully\")"
   ]
  },
  {
   "cell_type": "markdown",
   "metadata": {},
   "source": [
    "For ONNX format we'll use TorchDynamo to trace the FX Graph of our model using some example data and then translate the intermediate representation to ONNX format."
   ]
  },
  {
   "cell_type": "code",
   "execution_count": 36,
   "metadata": {},
   "outputs": [
    {
     "name": "stderr",
     "output_type": "stream",
     "text": [
      "/home/andrew/Workspace/LightGPT/.venv/lib/python3.12/site-packages/torch/onnx/_internal/_exporter_legacy.py:116: UserWarning: torch.onnx.dynamo_export only implements opset version 18 for now. If you need to use a different opset version, please register them with register_custom_op.\n",
      "  warnings.warn(\n"
     ]
    },
    {
     "name": "stdout",
     "output_type": "stream",
     "text": [
      "Applied 73 of general pattern rewrite rules.\n",
      "Model saved to ./exports/lightgpt-small.onnx\n"
     ]
    }
   ],
   "source": [
    "from model import ONNXModel\n",
    "\n",
    "from torch.onnx import dynamo_export, ExportOptions\n",
    "\n",
    "example_input = torch.randint(0, model.vocabulary_size - 1, (1, 1024))\n",
    "\n",
    "onnx_model = ONNXModel(model)  # Nicer inferencing API\n",
    "\n",
    "onnx_model.eval()  # Turn off dropout and other train-time operations\n",
    "\n",
    "export_options = ExportOptions(\n",
    "    dynamic_shapes=True\n",
    ")  # Necessary for variable batch and sequence lengths\n",
    "\n",
    "onnx_model = dynamo_export(onnx_model, example_input, export_options=export_options)\n",
    "\n",
    "onnx_path = path.join(exports_path, f\"{model_name}.onnx\")\n",
    "\n",
    "onnx_model.save(onnx_path)\n",
    "\n",
    "print(f\"Model saved to {onnx_path}\")"
   ]
  },
  {
   "cell_type": "markdown",
   "metadata": {},
   "source": [
    "Compare the output of PyTorch with the ONNX runtime to see if they are the same."
   ]
  },
  {
   "cell_type": "code",
   "execution_count": 37,
   "metadata": {},
   "outputs": [
    {
     "name": "stdout",
     "output_type": "stream",
     "text": [
      "Looks good!\n"
     ]
    }
   ],
   "source": [
    "import onnxruntime\n",
    "\n",
    "from numpy.testing import assert_allclose\n",
    "\n",
    "pytorch_logits = model.predict(example_input).detach().numpy()\n",
    "\n",
    "session = onnxruntime.InferenceSession(onnx_path, providers=[\"CPUExecutionProvider\"])\n",
    "\n",
    "onnx_input = {\"l_x_\": example_input.numpy()}\n",
    "\n",
    "onnx_logits = session.run(None, onnx_input)\n",
    "\n",
    "onnx_logits = onnx_logits[0]\n",
    "\n",
    "assert_allclose(pytorch_logits, onnx_logits, rtol=1e-2, atol=1e-03)\n",
    "\n",
    "print(\"Looks good!\")"
   ]
  },
  {
   "cell_type": "markdown",
   "metadata": {},
   "source": [
    "Lastly, let's export the model in HuggingFace format so that it can be used with the HuggingFace ecosystem."
   ]
  },
  {
   "cell_type": "code",
   "execution_count": 40,
   "metadata": {},
   "outputs": [
    {
     "name": "stdout",
     "output_type": "stream",
     "text": [
      "Model saved to ./exports/lightgpt-small\n"
     ]
    }
   ],
   "source": [
    "from os import path\n",
    "\n",
    "hf_path = path.join(exports_path, model_name)\n",
    "\n",
    "model.save_pretrained(hf_path)\n",
    "\n",
    "print(f\"Model saved to {hf_path}\")"
   ]
  },
  {
   "cell_type": "markdown",
   "metadata": {},
   "source": [
    "Lastly, we'll compensate for HuggingFace Hub's poor support multiple models by uploading each individual model to a separate namespace."
   ]
  },
  {
   "cell_type": "code",
   "execution_count": 41,
   "metadata": {},
   "outputs": [
    {
     "name": "stderr",
     "output_type": "stream",
     "text": [
      "model.safetensors: 100%|██████████| 1.41G/1.41G [08:10<00:00, 2.88MB/s]  \n"
     ]
    },
    {
     "data": {
      "text/plain": [
       "CommitInfo(commit_url='https://huggingface.co/andrewdalpino/lightgpt-small/commit/be1a6b528bb2e58a95756cb604c9c4ac459085ce', commit_message='Push model using huggingface_hub.', commit_description='', oid='be1a6b528bb2e58a95756cb604c9c4ac459085ce', pr_url=None, repo_url=RepoUrl('https://huggingface.co/andrewdalpino/lightgpt-small', endpoint='https://huggingface.co', repo_type='model', repo_id='andrewdalpino/lightgpt-small'), pr_revision=None, pr_num=None)"
      ]
     },
     "execution_count": 41,
     "metadata": {},
     "output_type": "execute_result"
    }
   ],
   "source": [
    "model.push_to_hub(\"lightgpt-small\")"
   ]
  }
 ],
 "metadata": {
  "kernelspec": {
   "display_name": ".venv",
   "language": "python",
   "name": "python3"
  },
  "language_info": {
   "codemirror_mode": {
    "name": "ipython",
    "version": 3
   },
   "file_extension": ".py",
   "mimetype": "text/x-python",
   "name": "python",
   "nbconvert_exporter": "python",
   "pygments_lexer": "ipython3",
   "version": "3.12.3"
  }
 },
 "nbformat": 4,
 "nbformat_minor": 2
}
